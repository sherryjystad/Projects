{
 "cells": [
  {
   "cell_type": "code",
   "execution_count": null,
   "metadata": {},
   "outputs": [],
   "source": [
    "from flask import Flask,render_template, jsonify\n",
    "from flask_pymongo import PyMongo\n"
   ]
  },
  {
   "cell_type": "code",
   "execution_count": null,
   "metadata": {},
   "outputs": [],
   "source": [
    "app = Flask(__name__)\n",
    "\n",
    "app.config[\"MONGO_URI\"] = \"mongodb://localhost:27017/nhl-database\"\n",
    "mongo = PyMongo(app)"
   ]
  },
  {
   "cell_type": "code",
   "execution_count": null,
   "metadata": {},
   "outputs": [],
   "source": [
    "# Flask Homepage\n",
    "@app.route('/')\n",
    "def index():\n",
    "    twitters = mongo.db.TWITTER.find_one({}, {'_id': False})\n",
    "    return render_template('index.html', twitters=twitters)"
   ]
  },
  {
   "cell_type": "code",
   "execution_count": null,
   "metadata": {},
   "outputs": [],
   "source": [
    "@app.route(\"/twitter\")\n",
    "def twitter():\n",
    "    twitter_data = []\n",
    "    twitters = mongo.db.TWITTER.find({}, {'_id': False})\n",
    "    print(twitters)\n",
    "\n",
    "    for twitter in twitters:\n",
    "        twitter_data.append({\n",
    "            \"Hockey Team\": twitter[\"Hockey Team\"],\n",
    "            \"Date\": twitter[\"Date\"],\n",
    "            \"Compound\": twitter[\"Compound\"],\n",
    "            \"Positive\": twitter[\"Positive\"],\n",
    "            \"Negative\": twitter[\"Negative\"],\n",
    "            \"Neutral\": twitter[\"Neutral\"],\n",
    "            \"Text\": twitter[\"Text\"],\n",
    "            \"Tweets Ago\": twitter[\"Tweets Ago\"]          \n",
    "        })\n",
    "    print(twitter_data)\n",
    "    return jsonify(twitter_data)"
   ]
  },
  {
   "cell_type": "code",
   "execution_count": null,
   "metadata": {},
   "outputs": [],
   "source": [
    "if __name__ == \"__main__\": \n",
    "    app.run(debug=True)\n",
    "\n"
   ]
  }
 ],
 "metadata": {
  "kernelspec": {
   "display_name": "Python 3",
   "language": "python",
   "name": "python3"
  },
  "language_info": {
   "codemirror_mode": {
    "name": "ipython",
    "version": 3
   },
   "file_extension": ".py",
   "mimetype": "text/x-python",
   "name": "python",
   "nbconvert_exporter": "python",
   "pygments_lexer": "ipython3",
   "version": "3.7.0"
  }
 },
 "nbformat": 4,
 "nbformat_minor": 2
}
